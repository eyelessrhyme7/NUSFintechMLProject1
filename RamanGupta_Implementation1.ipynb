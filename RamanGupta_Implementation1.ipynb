{
  "nbformat": 4,
  "nbformat_minor": 0,
  "metadata": {
    "colab": {
      "provenance": []
    },
    "kernelspec": {
      "name": "python3",
      "display_name": "Python 3"
    },
    "language_info": {
      "name": "python"
    }
  },
  "cells": [
    {
      "cell_type": "code",
      "execution_count": 31,
      "metadata": {
        "id": "TWmYXODQOPIM"
      },
      "outputs": [],
      "source": [
        "import pandas as pd\n",
        "import numpy as np\n",
        "import matplotlib.pyplot as plt\n",
        "%matplotlib inline\n",
        "from matplotlib.pylab import rcParams\n",
        "rcParams['figure.figsize']=20,10\n",
        "from keras.models import Sequential\n",
        "from keras.layers import LSTM,Dropout,Dense\n",
        "from sklearn.preprocessing import MinMaxScaler"
      ]
    },
    {
      "cell_type": "code",
      "source": [
        "df=pd.read_csv(\"NVDAFinal.csv\")\n",
        "df = df[4012:]\n",
        "rollwin = 90\n",
        "df"
      ],
      "metadata": {
        "colab": {
          "base_uri": "https://localhost:8080/",
          "height": 424
        },
        "id": "ZVbHdHAEPW1y",
        "outputId": "4196dbb0-9b3a-460a-be0e-5d20b73c6b4f"
      },
      "execution_count": 32,
      "outputs": [
        {
          "output_type": "execute_result",
          "data": {
            "text/plain": [
              "            Date        Open        High         Low       Close   Adj Close  \\\n",
              "4012    2/1/2015    5.032500    5.070000    4.952500    5.032500    4.836187   \n",
              "4013    5/1/2015    5.032500    5.047500    4.925000    4.947500    4.754501   \n",
              "4014    6/1/2015    4.955000    4.960000    4.792500    4.797500    4.610354   \n",
              "4015    7/1/2015    4.832500    4.875000    4.770000    4.785000    4.598342   \n",
              "4016    8/1/2015    4.840000    4.995000    4.837500    4.965000    4.771320   \n",
              "...          ...         ...         ...         ...         ...         ...   \n",
              "5973  17/10/2022  115.180000  119.480003  115.169998  118.879997  118.879997   \n",
              "5974  18/10/2022  123.440002  124.919998  116.180000  119.669998  119.669998   \n",
              "5975  19/10/2022  118.790001  123.500000  118.339996  120.510002  120.510002   \n",
              "5976  20/10/2022  121.129997  127.690002  121.050003  121.940002  121.940002   \n",
              "5977  21/10/2022  120.980003  124.980003  118.870003  124.660004  124.660004   \n",
              "\n",
              "        Volume  \n",
              "4012  11368000  \n",
              "4013  19795200  \n",
              "4014  19776400  \n",
              "4015  32180800  \n",
              "4016  28378000  \n",
              "...        ...  \n",
              "5973  58077400  \n",
              "5974  65936200  \n",
              "5975  52313100  \n",
              "5976  65239800  \n",
              "5977  60893800  \n",
              "\n",
              "[1966 rows x 7 columns]"
            ],
            "text/html": [
              "\n",
              "  <div id=\"df-ac5beb8e-7402-4f28-bb76-f6b03cd9ecb5\">\n",
              "    <div class=\"colab-df-container\">\n",
              "      <div>\n",
              "<style scoped>\n",
              "    .dataframe tbody tr th:only-of-type {\n",
              "        vertical-align: middle;\n",
              "    }\n",
              "\n",
              "    .dataframe tbody tr th {\n",
              "        vertical-align: top;\n",
              "    }\n",
              "\n",
              "    .dataframe thead th {\n",
              "        text-align: right;\n",
              "    }\n",
              "</style>\n",
              "<table border=\"1\" class=\"dataframe\">\n",
              "  <thead>\n",
              "    <tr style=\"text-align: right;\">\n",
              "      <th></th>\n",
              "      <th>Date</th>\n",
              "      <th>Open</th>\n",
              "      <th>High</th>\n",
              "      <th>Low</th>\n",
              "      <th>Close</th>\n",
              "      <th>Adj Close</th>\n",
              "      <th>Volume</th>\n",
              "    </tr>\n",
              "  </thead>\n",
              "  <tbody>\n",
              "    <tr>\n",
              "      <th>4012</th>\n",
              "      <td>2/1/2015</td>\n",
              "      <td>5.032500</td>\n",
              "      <td>5.070000</td>\n",
              "      <td>4.952500</td>\n",
              "      <td>5.032500</td>\n",
              "      <td>4.836187</td>\n",
              "      <td>11368000</td>\n",
              "    </tr>\n",
              "    <tr>\n",
              "      <th>4013</th>\n",
              "      <td>5/1/2015</td>\n",
              "      <td>5.032500</td>\n",
              "      <td>5.047500</td>\n",
              "      <td>4.925000</td>\n",
              "      <td>4.947500</td>\n",
              "      <td>4.754501</td>\n",
              "      <td>19795200</td>\n",
              "    </tr>\n",
              "    <tr>\n",
              "      <th>4014</th>\n",
              "      <td>6/1/2015</td>\n",
              "      <td>4.955000</td>\n",
              "      <td>4.960000</td>\n",
              "      <td>4.792500</td>\n",
              "      <td>4.797500</td>\n",
              "      <td>4.610354</td>\n",
              "      <td>19776400</td>\n",
              "    </tr>\n",
              "    <tr>\n",
              "      <th>4015</th>\n",
              "      <td>7/1/2015</td>\n",
              "      <td>4.832500</td>\n",
              "      <td>4.875000</td>\n",
              "      <td>4.770000</td>\n",
              "      <td>4.785000</td>\n",
              "      <td>4.598342</td>\n",
              "      <td>32180800</td>\n",
              "    </tr>\n",
              "    <tr>\n",
              "      <th>4016</th>\n",
              "      <td>8/1/2015</td>\n",
              "      <td>4.840000</td>\n",
              "      <td>4.995000</td>\n",
              "      <td>4.837500</td>\n",
              "      <td>4.965000</td>\n",
              "      <td>4.771320</td>\n",
              "      <td>28378000</td>\n",
              "    </tr>\n",
              "    <tr>\n",
              "      <th>...</th>\n",
              "      <td>...</td>\n",
              "      <td>...</td>\n",
              "      <td>...</td>\n",
              "      <td>...</td>\n",
              "      <td>...</td>\n",
              "      <td>...</td>\n",
              "      <td>...</td>\n",
              "    </tr>\n",
              "    <tr>\n",
              "      <th>5973</th>\n",
              "      <td>17/10/2022</td>\n",
              "      <td>115.180000</td>\n",
              "      <td>119.480003</td>\n",
              "      <td>115.169998</td>\n",
              "      <td>118.879997</td>\n",
              "      <td>118.879997</td>\n",
              "      <td>58077400</td>\n",
              "    </tr>\n",
              "    <tr>\n",
              "      <th>5974</th>\n",
              "      <td>18/10/2022</td>\n",
              "      <td>123.440002</td>\n",
              "      <td>124.919998</td>\n",
              "      <td>116.180000</td>\n",
              "      <td>119.669998</td>\n",
              "      <td>119.669998</td>\n",
              "      <td>65936200</td>\n",
              "    </tr>\n",
              "    <tr>\n",
              "      <th>5975</th>\n",
              "      <td>19/10/2022</td>\n",
              "      <td>118.790001</td>\n",
              "      <td>123.500000</td>\n",
              "      <td>118.339996</td>\n",
              "      <td>120.510002</td>\n",
              "      <td>120.510002</td>\n",
              "      <td>52313100</td>\n",
              "    </tr>\n",
              "    <tr>\n",
              "      <th>5976</th>\n",
              "      <td>20/10/2022</td>\n",
              "      <td>121.129997</td>\n",
              "      <td>127.690002</td>\n",
              "      <td>121.050003</td>\n",
              "      <td>121.940002</td>\n",
              "      <td>121.940002</td>\n",
              "      <td>65239800</td>\n",
              "    </tr>\n",
              "    <tr>\n",
              "      <th>5977</th>\n",
              "      <td>21/10/2022</td>\n",
              "      <td>120.980003</td>\n",
              "      <td>124.980003</td>\n",
              "      <td>118.870003</td>\n",
              "      <td>124.660004</td>\n",
              "      <td>124.660004</td>\n",
              "      <td>60893800</td>\n",
              "    </tr>\n",
              "  </tbody>\n",
              "</table>\n",
              "<p>1966 rows × 7 columns</p>\n",
              "</div>\n",
              "      <button class=\"colab-df-convert\" onclick=\"convertToInteractive('df-ac5beb8e-7402-4f28-bb76-f6b03cd9ecb5')\"\n",
              "              title=\"Convert this dataframe to an interactive table.\"\n",
              "              style=\"display:none;\">\n",
              "        \n",
              "  <svg xmlns=\"http://www.w3.org/2000/svg\" height=\"24px\"viewBox=\"0 0 24 24\"\n",
              "       width=\"24px\">\n",
              "    <path d=\"M0 0h24v24H0V0z\" fill=\"none\"/>\n",
              "    <path d=\"M18.56 5.44l.94 2.06.94-2.06 2.06-.94-2.06-.94-.94-2.06-.94 2.06-2.06.94zm-11 1L8.5 8.5l.94-2.06 2.06-.94-2.06-.94L8.5 2.5l-.94 2.06-2.06.94zm10 10l.94 2.06.94-2.06 2.06-.94-2.06-.94-.94-2.06-.94 2.06-2.06.94z\"/><path d=\"M17.41 7.96l-1.37-1.37c-.4-.4-.92-.59-1.43-.59-.52 0-1.04.2-1.43.59L10.3 9.45l-7.72 7.72c-.78.78-.78 2.05 0 2.83L4 21.41c.39.39.9.59 1.41.59.51 0 1.02-.2 1.41-.59l7.78-7.78 2.81-2.81c.8-.78.8-2.07 0-2.86zM5.41 20L4 18.59l7.72-7.72 1.47 1.35L5.41 20z\"/>\n",
              "  </svg>\n",
              "      </button>\n",
              "      \n",
              "  <style>\n",
              "    .colab-df-container {\n",
              "      display:flex;\n",
              "      flex-wrap:wrap;\n",
              "      gap: 12px;\n",
              "    }\n",
              "\n",
              "    .colab-df-convert {\n",
              "      background-color: #E8F0FE;\n",
              "      border: none;\n",
              "      border-radius: 50%;\n",
              "      cursor: pointer;\n",
              "      display: none;\n",
              "      fill: #1967D2;\n",
              "      height: 32px;\n",
              "      padding: 0 0 0 0;\n",
              "      width: 32px;\n",
              "    }\n",
              "\n",
              "    .colab-df-convert:hover {\n",
              "      background-color: #E2EBFA;\n",
              "      box-shadow: 0px 1px 2px rgba(60, 64, 67, 0.3), 0px 1px 3px 1px rgba(60, 64, 67, 0.15);\n",
              "      fill: #174EA6;\n",
              "    }\n",
              "\n",
              "    [theme=dark] .colab-df-convert {\n",
              "      background-color: #3B4455;\n",
              "      fill: #D2E3FC;\n",
              "    }\n",
              "\n",
              "    [theme=dark] .colab-df-convert:hover {\n",
              "      background-color: #434B5C;\n",
              "      box-shadow: 0px 1px 3px 1px rgba(0, 0, 0, 0.15);\n",
              "      filter: drop-shadow(0px 1px 2px rgba(0, 0, 0, 0.3));\n",
              "      fill: #FFFFFF;\n",
              "    }\n",
              "  </style>\n",
              "\n",
              "      <script>\n",
              "        const buttonEl =\n",
              "          document.querySelector('#df-ac5beb8e-7402-4f28-bb76-f6b03cd9ecb5 button.colab-df-convert');\n",
              "        buttonEl.style.display =\n",
              "          google.colab.kernel.accessAllowed ? 'block' : 'none';\n",
              "\n",
              "        async function convertToInteractive(key) {\n",
              "          const element = document.querySelector('#df-ac5beb8e-7402-4f28-bb76-f6b03cd9ecb5');\n",
              "          const dataTable =\n",
              "            await google.colab.kernel.invokeFunction('convertToInteractive',\n",
              "                                                     [key], {});\n",
              "          if (!dataTable) return;\n",
              "\n",
              "          const docLinkHtml = 'Like what you see? Visit the ' +\n",
              "            '<a target=\"_blank\" href=https://colab.research.google.com/notebooks/data_table.ipynb>data table notebook</a>'\n",
              "            + ' to learn more about interactive tables.';\n",
              "          element.innerHTML = '';\n",
              "          dataTable['output_type'] = 'display_data';\n",
              "          await google.colab.output.renderOutput(dataTable, element);\n",
              "          const docLink = document.createElement('div');\n",
              "          docLink.innerHTML = docLinkHtml;\n",
              "          element.appendChild(docLink);\n",
              "        }\n",
              "      </script>\n",
              "    </div>\n",
              "  </div>\n",
              "  "
            ]
          },
          "metadata": {},
          "execution_count": 32
        }
      ]
    },
    {
      "cell_type": "code",
      "source": [
        "df[\"Date\"]=pd.to_datetime(df.Date,format=\"%d/%m/%Y\")\n",
        "df.index=df['Date']\n",
        "plt.figure(figsize=(16,8))\n",
        "plt.plot(df[\"Close\"],label='Close Price history')"
      ],
      "metadata": {
        "colab": {
          "base_uri": "https://localhost:8080/",
          "height": 505
        },
        "id": "wNHyL4LVPlmT",
        "outputId": "5552e196-737c-41d5-f73a-335462446dd8"
      },
      "execution_count": 33,
      "outputs": [
        {
          "output_type": "execute_result",
          "data": {
            "text/plain": [
              "[<matplotlib.lines.Line2D at 0x7f3cb9c56bd0>]"
            ]
          },
          "metadata": {},
          "execution_count": 33
        },
        {
          "output_type": "display_data",
          "data": {
            "text/plain": [
              "<Figure size 1152x576 with 1 Axes>"
            ],
            "image/png": "[encoded data removed]"
          },
          "metadata": {
            "needs_background": "light"
          }
        }
      ]
    },
    {
      "cell_type": "code",
      "source": [
        "data=df.sort_index(ascending=True,axis=0)\n",
        "new_dataset=pd.DataFrame(index=range(0,len(df)),columns=['Date','Close'])\n",
        "for i in range(0,len(data)):\n",
        "    new_dataset[\"Date\"][i]=data['Date'][i]\n",
        "    new_dataset[\"Close\"][i]=data[\"Close\"][i]\n",
        "\n",
        "new_dataset"
      ],
      "metadata": {
        "colab": {
          "base_uri": "https://localhost:8080/",
          "height": 424
        },
        "id": "Sd_w_kokP7xC",
        "outputId": "e71f30b5-c13a-4abe-8b58-65c6c959996e"
      },
      "execution_count": 34,
      "outputs": [
        {
          "output_type": "execute_result",
          "data": {
            "text/plain": [
              "                     Date       Close\n",
              "0     2015-01-02 00:00:00      5.0325\n",
              "1     2015-01-05 00:00:00      4.9475\n",
              "2     2015-01-06 00:00:00      4.7975\n",
              "3     2015-01-07 00:00:00       4.785\n",
              "4     2015-01-08 00:00:00       4.965\n",
              "...                   ...         ...\n",
              "1961  2022-10-17 00:00:00  118.879997\n",
              "1962  2022-10-18 00:00:00  119.669998\n",
              "1963  2022-10-19 00:00:00  120.510002\n",
              "1964  2022-10-20 00:00:00  121.940002\n",
              "1965  2022-10-21 00:00:00  124.660004\n",
              "\n",
              "[1966 rows x 2 columns]"
            ],
            "text/html": [
              "\n",
              "  <div id=\"df-af7ced51-6017-496c-b6ff-daa9b57ee8b0\">\n",
              "    <div class=\"colab-df-container\">\n",
              "      <div>\n",
              "<style scoped>\n",
              "    .dataframe tbody tr th:only-of-type {\n",
              "        vertical-align: middle;\n",
              "    }\n",
              "\n",
              "    .dataframe tbody tr th {\n",
              "        vertical-align: top;\n",
              "    }\n",
              "\n",
              "    .dataframe thead th {\n",
              "        text-align: right;\n",
              "    }\n",
              "</style>\n",
              "<table border=\"1\" class=\"dataframe\">\n",
              "  <thead>\n",
              "    <tr style=\"text-align: right;\">\n",
              "      <th></th>\n",
              "      <th>Date</th>\n",
              "      <th>Close</th>\n",
              "    </tr>\n",
              "  </thead>\n",
              "  <tbody>\n",
              "    <tr>\n",
              "      <th>0</th>\n",
              "      <td>2015-01-02 00:00:00</td>\n",
              "      <td>5.0325</td>\n",
              "    </tr>\n",
              "    <tr>\n",
              "      <th>1</th>\n",
              "      <td>2015-01-05 00:00:00</td>\n",
              "      <td>4.9475</td>\n",
              "    </tr>\n",
              "    <tr>\n",
              "      <th>2</th>\n",
              "      <td>2015-01-06 00:00:00</td>\n",
              "      <td>4.7975</td>\n",
              "    </tr>\n",
              "    <tr>\n",
              "      <th>3</th>\n",
              "      <td>2015-01-07 00:00:00</td>\n",
              "      <td>4.785</td>\n",
              "    </tr>\n",
              "    <tr>\n",
              "      <th>4</th>\n",
              "      <td>2015-01-08 00:00:00</td>\n",
              "      <td>4.965</td>\n",
              "    </tr>\n",
              "    <tr>\n",
              "      <th>...</th>\n",
              "      <td>...</td>\n",
              "      <td>...</td>\n",
              "    </tr>\n",
              "    <tr>\n",
              "      <th>1961</th>\n",
              "      <td>2022-10-17 00:00:00</td>\n",
              "      <td>118.879997</td>\n",
              "    </tr>\n",
              "    <tr>\n",
              "      <th>1962</th>\n",
              "      <td>2022-10-18 00:00:00</td>\n",
              "      <td>119.669998</td>\n",
              "    </tr>\n",
              "    <tr>\n",
              "      <th>1963</th>\n",
              "      <td>2022-10-19 00:00:00</td>\n",
              "      <td>120.510002</td>\n",
              "    </tr>\n",
              "    <tr>\n",
              "      <th>1964</th>\n",
              "      <td>2022-10-20 00:00:00</td>\n",
              "      <td>121.940002</td>\n",
              "    </tr>\n",
              "    <tr>\n",
              "      <th>1965</th>\n",
              "      <td>2022-10-21 00:00:00</td>\n",
              "      <td>124.660004</td>\n",
              "    </tr>\n",
              "  </tbody>\n",
              "</table>\n",
              "<p>1966 rows × 2 columns</p>\n",
              "</div>\n",
              "      <button class=\"colab-df-convert\" onclick=\"convertToInteractive('df-af7ced51-6017-496c-b6ff-daa9b57ee8b0')\"\n",
              "              title=\"Convert this dataframe to an interactive table.\"\n",
              "              style=\"display:none;\">\n",
              "        \n",
              "  <svg xmlns=\"http://www.w3.org/2000/svg\" height=\"24px\"viewBox=\"0 0 24 24\"\n",
              "       width=\"24px\">\n",
              "    <path d=\"M0 0h24v24H0V0z\" fill=\"none\"/>\n",
              "    <path d=\"M18.56 5.44l.94 2.06.94-2.06 2.06-.94-2.06-.94-.94-2.06-.94 2.06-2.06.94zm-11 1L8.5 8.5l.94-2.06 2.06-.94-2.06-.94L8.5 2.5l-.94 2.06-2.06.94zm10 10l.94 2.06.94-2.06 2.06-.94-2.06-.94-.94-2.06-.94 2.06-2.06.94z\"/><path d=\"M17.41 7.96l-1.37-1.37c-.4-.4-.92-.59-1.43-.59-.52 0-1.04.2-1.43.59L10.3 9.45l-7.72 7.72c-.78.78-.78 2.05 0 2.83L4 21.41c.39.39.9.59 1.41.59.51 0 1.02-.2 1.41-.59l7.78-7.78 2.81-2.81c.8-.78.8-2.07 0-2.86zM5.41 20L4 18.59l7.72-7.72 1.47 1.35L5.41 20z\"/>\n",
              "  </svg>\n",
              "      </button>\n",
              "      \n",
              "  <style>\n",
              "    .colab-df-container {\n",
              "      display:flex;\n",
              "      flex-wrap:wrap;\n",
              "      gap: 12px;\n",
              "    }\n",
              "\n",
              "    .colab-df-convert {\n",
              "      background-color: #E8F0FE;\n",
              "      border: none;\n",
              "      border-radius: 50%;\n",
              "      cursor: pointer;\n",
              "      display: none;\n",
              "      fill: #1967D2;\n",
              "      height: 32px;\n",
              "      padding: 0 0 0 0;\n",
              "      width: 32px;\n",
              "    }\n",
              "\n",
              "    .colab-df-convert:hover {\n",
              "      background-color: #E2EBFA;\n",
              "      box-shadow: 0px 1px 2px rgba(60, 64, 67, 0.3), 0px 1px 3px 1px rgba(60, 64, 67, 0.15);\n",
              "      fill: #174EA6;\n",
              "    }\n",
              "\n",
              "    [theme=dark] .colab-df-convert {\n",
              "      background-color: #3B4455;\n",
              "      fill: #D2E3FC;\n",
              "    }\n",
              "\n",
              "    [theme=dark] .colab-df-convert:hover {\n",
              "      background-color: #434B5C;\n",
              "      box-shadow: 0px 1px 3px 1px rgba(0, 0, 0, 0.15);\n",
              "      filter: drop-shadow(0px 1px 2px rgba(0, 0, 0, 0.3));\n",
              "      fill: #FFFFFF;\n",
              "    }\n",
              "  </style>\n",
              "\n",
              "      <script>\n",
              "        const buttonEl =\n",
              "          document.querySelector('#df-af7ced51-6017-496c-b6ff-daa9b57ee8b0 button.colab-df-convert');\n",
              "        buttonEl.style.display =\n",
              "          google.colab.kernel.accessAllowed ? 'block' : 'none';\n",
              "\n",
              "        async function convertToInteractive(key) {\n",
              "          const element = document.querySelector('#df-af7ced51-6017-496c-b6ff-daa9b57ee8b0');\n",
              "          const dataTable =\n",
              "            await google.colab.kernel.invokeFunction('convertToInteractive',\n",
              "                                                     [key], {});\n",
              "          if (!dataTable) return;\n",
              "\n",
              "          const docLinkHtml = 'Like what you see? Visit the ' +\n",
              "            '<a target=\"_blank\" href=https://colab.research.google.com/notebooks/data_table.ipynb>data table notebook</a>'\n",
              "            + ' to learn more about interactive tables.';\n",
              "          element.innerHTML = '';\n",
              "          dataTable['output_type'] = 'display_data';\n",
              "          await google.colab.output.renderOutput(dataTable, element);\n",
              "          const docLink = document.createElement('div');\n",
              "          docLink.innerHTML = docLinkHtml;\n",
              "          element.appendChild(docLink);\n",
              "        }\n",
              "      </script>\n",
              "    </div>\n",
              "  </div>\n",
              "  "
            ]
          },
          "metadata": {},
          "execution_count": 34
        }
      ]
    },
    {
      "cell_type": "code",
      "source": [
        "scaler=MinMaxScaler(feature_range=(0,1))\n",
        "final_dataset=new_dataset.values\n",
        "findata = new_dataset\n",
        "\n",
        "train_data=final_dataset       \n",
        "#valid_data=final_dataset[987:,:]\n",
        "\n",
        "new_dataset.index=new_dataset.Date\n",
        "new_dataset.drop(\"Date\",axis=1,inplace=True)#array of just closing prices\n",
        "scaled_data=scaler.fit_transform(findata)#change newdatasetvalues to 0:1, has date as index still\n",
        "\n",
        "x_train_data,y_train_data=[],[]\n",
        "\n",
        "for i in range(rollwin,len(train_data)):\n",
        "    x_train_data.append(scaled_data[i-rollwin:i,0])\n",
        "    y_train_data.append(scaled_data[i,0])\n",
        "    \n",
        "x_train_data,y_train_data=np.array(x_train_data),np.array(y_train_data)\n",
        "\n",
        "x_train_data=np.reshape(x_train_data,(x_train_data.shape[0],x_train_data.shape[1],1))#last 1 is z\n",
        "\n",
        "print(x_train_data)"
      ],
      "metadata": {
        "colab": {
          "base_uri": "https://localhost:8080/"
        },
        "id": "2Q7G5MWoQN15",
        "outputId": "c60a9a94-682e-41cf-cc9a-d7f82d14a02e"
      },
      "execution_count": 35,
      "outputs": [
        {
          "output_type": "stream",
          "name": "stdout",
          "text": [
            "[[[7.52336781e-04]\n",
            "  [4.93958492e-04]\n",
            "  [3.79968071e-05]\n",
            "  ...\n",
            "  [1.28429208e-03]\n",
            "  [1.13230485e-03]\n",
            "  [1.28429208e-03]]\n",
            "\n",
            " [[4.93958492e-04]\n",
            "  [3.79968071e-05]\n",
            "  [0.00000000e+00]\n",
            "  ...\n",
            "  [1.13230485e-03]\n",
            "  [1.28429208e-03]\n",
            "  [1.37548442e-03]]\n",
            "\n",
            " [[3.79968071e-05]\n",
            "  [0.00000000e+00]\n",
            "  [5.47154022e-04]\n",
            "  ...\n",
            "  [1.28429208e-03]\n",
            "  [1.37548442e-03]\n",
            "  [1.63386271e-03]]\n",
            "\n",
            " ...\n",
            "\n",
            " [[5.01421081e-01]\n",
            "  [4.61083658e-01]\n",
            "  [4.66828775e-01]\n",
            "  ...\n",
            "  [3.26726936e-01]\n",
            "  [3.46819647e-01]\n",
            "  [3.49221049e-01]]\n",
            "\n",
            " [[4.61083658e-01]\n",
            "  [4.66828775e-01]\n",
            "  [4.87833419e-01]\n",
            "  ...\n",
            "  [3.46819647e-01]\n",
            "  [3.49221049e-01]\n",
            "  [3.51774446e-01]]\n",
            "\n",
            " [[4.66828775e-01]\n",
            "  [4.87833419e-01]\n",
            "  [4.59685357e-01]\n",
            "  ...\n",
            "  [3.49221049e-01]\n",
            "  [3.51774446e-01]\n",
            "  [3.56121281e-01]]]\n"
          ]
        }
      ]
    },
    {
      "cell_type": "code",
      "source": [
        "lstm_model=Sequential()\n",
        "lstm_model.add(LSTM(units=50,return_sequences=True,input_shape=(x_train_data.shape[1],1)))#requires input dat in certain format thats why we reshape\n",
        "lstm_model.add(LSTM(units=50))\n",
        "lstm_model.add(Dense(1))\n",
        "\n",
        "\n",
        "lstm_model.compile(loss='mean_squared_error',optimizer='adam')\n",
        "lstm_model.fit(x_train_data,y_train_data,epochs=1,batch_size=1,verbose=2)"
      ],
      "metadata": {
        "colab": {
          "base_uri": "https://localhost:8080/"
        },
        "id": "BufCgpMwVkjl",
        "outputId": "e2b9e734-90bd-4f56-9cfd-834ea30aeba2"
      },
      "execution_count": 36,
      "outputs": [
        {
          "output_type": "stream",
          "name": "stdout",
          "text": [
            "1876/1876 - 73s - loss: 0.0015 - 73s/epoch - 39ms/step\n"
          ]
        },
        {
          "output_type": "execute_result",
          "data": {
            "text/plain": [
              "<keras.callbacks.History at 0x7f3cb9b7b690>"
            ]
          },
          "metadata": {},
          "execution_count": 36
        }
      ]
    },
    {
      "cell_type": "code",
      "source": [
        "inputs_data=new_dataset[len(new_dataset)-rollwin:].values\n",
        "#a = np.append(inputs_data,valid_dataset,axis=0)\n",
        "inputs_data"
      ],
      "metadata": {
        "colab": {
          "base_uri": "https://localhost:8080/"
        },
        "id": "vpCfLlT-fVK5",
        "outputId": "46e047c2-45f9-4e03-8723-170f21159e79"
      },
      "execution_count": 37,
      "outputs": [
        {
          "output_type": "execute_result",
          "data": {
            "text/plain": [
              "array([[165.270004],\n",
              "       [156.009995],\n",
              "       [158.800003],\n",
              "       [165.660004],\n",
              "       [163.600006],\n",
              "       [162.25],\n",
              "       [171.259995],\n",
              "       [168.690002],\n",
              "       [159.820007],\n",
              "       [155.419998],\n",
              "       [151.589996],\n",
              "       [145.229996],\n",
              "       [149.639999],\n",
              "       [151.300003],\n",
              "       [158.580002],\n",
              "       [158.380005],\n",
              "       [151.520004],\n",
              "       [150.820007],\n",
              "       [151.639999],\n",
              "       [153.720001],\n",
              "       [157.619995],\n",
              "       [161.009995],\n",
              "       [169.919998],\n",
              "       [178.070007],\n",
              "       [180.5],\n",
              "       [173.190002],\n",
              "       [170.240005],\n",
              "       [165.330002],\n",
              "       [177.899994],\n",
              "       [179.839996],\n",
              "       [181.630005],\n",
              "       [184.410004],\n",
              "       [185.259995],\n",
              "       [188.929993],\n",
              "       [192.149994],\n",
              "       [189.889999],\n",
              "       [177.929993],\n",
              "       [170.860001],\n",
              "       [180.970001],\n",
              "       [179.419998],\n",
              "       [187.089996],\n",
              "       [190.320007],\n",
              "       [188.789993],\n",
              "       [183.350006],\n",
              "       [187.729996],\n",
              "       [178.490005],\n",
              "       [170.339996],\n",
              "       [171.809998],\n",
              "       [172.220001],\n",
              "       [179.130005],\n",
              "       [162.600006],\n",
              "       [158.009995],\n",
              "       [154.679993],\n",
              "       [150.940002],\n",
              "       [139.369995],\n",
              "       [136.470001],\n",
              "       [134.649994],\n",
              "       [137.139999],\n",
              "       [139.899994],\n",
              "       [143.869995],\n",
              "       [145.050003],\n",
              "       [131.309998],\n",
              "       [131.279999],\n",
              "       [129.289993],\n",
              "       [131.979996],\n",
              "       [133.820007],\n",
              "       [131.759995],\n",
              "       [132.610001],\n",
              "       [125.610001],\n",
              "       [125.160004],\n",
              "       [122.279999],\n",
              "       [124.129997],\n",
              "       [127.360001],\n",
              "       [122.199997],\n",
              "       [121.389999],\n",
              "       [125.120003],\n",
              "       [131.669998],\n",
              "       [132.089996],\n",
              "       [131.300003],\n",
              "       [120.760002],\n",
              "       [116.699997],\n",
              "       [115.860001],\n",
              "       [115.0],\n",
              "       [119.599998],\n",
              "       [112.269997],\n",
              "       [118.879997],\n",
              "       [119.669998],\n",
              "       [120.510002],\n",
              "       [121.940002],\n",
              "       [124.660004]], dtype=object)"
            ]
          },
          "metadata": {},
          "execution_count": 37
        }
      ]
    },
    {
      "cell_type": "code",
      "source": [
        "inputs_data=inputs_data.reshape(-1,1)\n",
        "inputs_data=scaler.transform(inputs_data)\n",
        "inputs_data.shape[0]"
      ],
      "metadata": {
        "colab": {
          "base_uri": "https://localhost:8080/"
        },
        "id": "UDcS2AyUzd9k",
        "outputId": "857efc9c-5662-4d3f-a0f7-4c2db9639762"
      },
      "execution_count": 38,
      "outputs": [
        {
          "output_type": "stream",
          "name": "stderr",
          "text": [
            "/usr/local/lib/python3.7/dist-packages/sklearn/base.py:451: UserWarning: X does not have valid feature names, but MinMaxScaler was fitted with feature names\n",
            "  \"X does not have valid feature names, but\"\n"
          ]
        },
        {
          "output_type": "execute_result",
          "data": {
            "text/plain": [
              "90"
            ]
          },
          "metadata": {},
          "execution_count": 38
        }
      ]
    },
    {
      "cell_type": "code",
      "source": [
        "predicted = []\n",
        "XXX = []\n",
        "\n",
        "for i in range(rollwin,rollwin+10):\n",
        "  YYY = []\n",
        "  YYY.append(np.append(inputs_data[i-rollwin:rollwin,0],predicted[:]))\n",
        "  YYY=np.array(YYY)\n",
        "\n",
        "  YYY=np.reshape(YYY,(YYY.shape[0],YYY.shape[1],1))\n",
        "  pcp=lstm_model.predict(YYY)\n",
        "  predicted.append(pcp[0][0])\n",
        "  print(predicted)\n"
      ],
      "metadata": {
        "colab": {
          "base_uri": "https://localhost:8080/"
        },
        "id": "P7lkoxpc1Vl9",
        "outputId": "10e352e9-3d56-4603-e78c-a340864338d9"
      },
      "execution_count": 40,
      "outputs": [
        {
          "output_type": "stream",
          "name": "stdout",
          "text": [
            "1/1 [==============================] - 2s 2s/step\n",
            "[0.3355063]\n",
            "1/1 [==============================] - 0s 31ms/step\n",
            "[0.3355063, 0.33565837]\n",
            "1/1 [==============================] - 0s 24ms/step\n",
            "[0.3355063, 0.33565837, 0.33413285]\n",
            "1/1 [==============================] - 0s 29ms/step\n",
            "[0.3355063, 0.33565837, 0.33413285, 0.33168364]\n",
            "1/1 [==============================] - 0s 24ms/step\n",
            "[0.3355063, 0.33565837, 0.33413285, 0.33168364, 0.32873628]\n",
            "1/1 [==============================] - 0s 28ms/step\n",
            "[0.3355063, 0.33565837, 0.33413285, 0.33168364, 0.32873628, 0.3255288]\n",
            "1/1 [==============================] - 0s 26ms/step\n",
            "[0.3355063, 0.33565837, 0.33413285, 0.33168364, 0.32873628, 0.3255288, 0.32219446]\n",
            "1/1 [==============================] - 0s 31ms/step\n",
            "[0.3355063, 0.33565837, 0.33413285, 0.33168364, 0.32873628, 0.3255288, 0.32219446, 0.31880775]\n",
            "1/1 [==============================] - 0s 29ms/step\n",
            "[0.3355063, 0.33565837, 0.33413285, 0.33168364, 0.32873628, 0.3255288, 0.32219446, 0.31880775, 0.31541088]\n",
            "1/1 [==============================] - 0s 32ms/step\n",
            "[0.3355063, 0.33565837, 0.33413285, 0.33168364, 0.32873628, 0.3255288, 0.32219446, 0.31880775, 0.31541088, 0.31202796]\n"
          ]
        }
      ]
    },
    {
      "cell_type": "code",
      "source": [
        "pred=[]\n",
        "for i in range(0,len(predicted)):\n",
        "  pred.append(scaler.inverse_transform([[predicted[i]]])[0][0])\n",
        "pred"
      ],
      "metadata": {
        "colab": {
          "base_uri": "https://localhost:8080/"
        },
        "id": "0Pcur0AvHWOE",
        "outputId": "60e7b9ab-da15-452b-dc8a-81fc615bf001"
      },
      "execution_count": 41,
      "outputs": [
        {
          "output_type": "execute_result",
          "data": {
            "text/plain": [
              "[115.15818517274349,\n",
              " 115.20821610385954,\n",
              " 114.70635772604882,\n",
              " 113.90062737508296,\n",
              " 112.93101949842541,\n",
              " 111.87584039566933,\n",
              " 110.77892473132967,\n",
              " 109.66478305367022,\n",
              " 108.54729813722759,\n",
              " 107.43440159541994]"
            ]
          },
          "metadata": {},
          "execution_count": 41
        }
      ]
    },
    {
      "cell_type": "code",
      "source": [
        "plt.plot(predicted)"
      ],
      "metadata": {
        "colab": {
          "base_uri": "https://localhost:8080/",
          "height": 610
        },
        "id": "tphZJjFckBte",
        "outputId": "0ebaec3d-a9c4-4b5d-cce5-cffd7ab61fa7"
      },
      "execution_count": 43,
      "outputs": [
        {
          "output_type": "execute_result",
          "data": {
            "text/plain": [
              "[<matplotlib.lines.Line2D at 0x7f3cba40a3d0>]"
            ]
          },
          "metadata": {},
          "execution_count": 43
        },
        {
          "output_type": "display_data",
          "data": {
            "text/plain": [
              "<Figure size 1440x720 with 1 Axes>"
            ],
            "image/png": "[encoded data removed]"
          },
          "metadata": {
            "needs_background": "light"
          }
        }
      ]
    },
    {
      "cell_type": "code",
      "source": [
        "plt.plot(pred[0:10])"
      ],
      "metadata": {
        "colab": {
          "base_uri": "https://localhost:8080/",
          "height": 610
        },
        "id": "XXqLRgjbIr4G",
        "outputId": "9c788f4c-f61a-4878-b025-06be9ae6aea0"
      },
      "execution_count": 44,
      "outputs": [
        {
          "output_type": "execute_result",
          "data": {
            "text/plain": [
              "[<matplotlib.lines.Line2D at 0x7f3cba3b1a50>]"
            ]
          },
          "metadata": {},
          "execution_count": 44
        },
        {
          "output_type": "display_data",
          "data": {
            "text/plain": [
              "<Figure size 1440x720 with 1 Axes>"
            ],
            "image/png": "[encoded data removed]"
          },
          "metadata": {
            "needs_background": "light"
          }
        }
      ]
    },
    {
      "cell_type": "code",
      "source": [
        "lstm_model.save(\"saved_model.h5\")#know how to read models"
      ],
      "metadata": {
        "id": "VMjPmlG1Vp3H"
      },
      "execution_count": 45,
      "outputs": []
    }
  ]
}